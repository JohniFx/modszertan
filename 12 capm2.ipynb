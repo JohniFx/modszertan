{
 "cells": [
  {
   "cell_type": "code",
   "execution_count": 1,
   "metadata": {},
   "outputs": [],
   "source": [
    "import numpy as np\n",
    "import pandas as pd\n",
    "import statsmodels.api as sm\n",
    "from statsmodels import regression\n",
    "import matplotlib.pyplot as plt"
   ]
  },
  {
   "cell_type": "code",
   "execution_count": 2,
   "metadata": {},
   "outputs": [
    {
     "data": {
      "text/html": [
       "<div>\n",
       "<style scoped>\n",
       "    .dataframe tbody tr th:only-of-type {\n",
       "        vertical-align: middle;\n",
       "    }\n",
       "\n",
       "    .dataframe tbody tr th {\n",
       "        vertical-align: top;\n",
       "    }\n",
       "\n",
       "    .dataframe thead th {\n",
       "        text-align: right;\n",
       "    }\n",
       "</style>\n",
       "<table border=\"1\" class=\"dataframe\">\n",
       "  <thead>\n",
       "    <tr style=\"text-align: right;\">\n",
       "      <th></th>\n",
       "      <th>Név</th>\n",
       "      <th>Dátum</th>\n",
       "      <th>Nyitó ár</th>\n",
       "      <th>Maximum ár</th>\n",
       "      <th>Minimum ár</th>\n",
       "      <th>Utolsó ár</th>\n",
       "    </tr>\n",
       "  </thead>\n",
       "  <tbody>\n",
       "    <tr>\n",
       "      <th>0</th>\n",
       "      <td>BUX</td>\n",
       "      <td>2016.01.04.</td>\n",
       "      <td>23920.455062</td>\n",
       "      <td>23920.455062</td>\n",
       "      <td>23509.118191</td>\n",
       "      <td>23632.571544</td>\n",
       "    </tr>\n",
       "    <tr>\n",
       "      <th>1</th>\n",
       "      <td>BUX</td>\n",
       "      <td>2016.01.05.</td>\n",
       "      <td>23632.571544</td>\n",
       "      <td>23861.387786</td>\n",
       "      <td>23632.571544</td>\n",
       "      <td>23861.387786</td>\n",
       "    </tr>\n",
       "    <tr>\n",
       "      <th>2</th>\n",
       "      <td>BUX</td>\n",
       "      <td>2016.01.06.</td>\n",
       "      <td>23787.452447</td>\n",
       "      <td>24000.535907</td>\n",
       "      <td>23632.380895</td>\n",
       "      <td>24000.535907</td>\n",
       "    </tr>\n",
       "    <tr>\n",
       "      <th>3</th>\n",
       "      <td>BUX</td>\n",
       "      <td>2016.01.07.</td>\n",
       "      <td>24000.129335</td>\n",
       "      <td>24000.535907</td>\n",
       "      <td>23467.548329</td>\n",
       "      <td>23595.103473</td>\n",
       "    </tr>\n",
       "    <tr>\n",
       "      <th>4</th>\n",
       "      <td>BUX</td>\n",
       "      <td>2016.01.08.</td>\n",
       "      <td>23595.103473</td>\n",
       "      <td>24027.320338</td>\n",
       "      <td>23595.103473</td>\n",
       "      <td>23956.194258</td>\n",
       "    </tr>\n",
       "  </tbody>\n",
       "</table>\n",
       "</div>"
      ],
      "text/plain": [
       "   Név        Dátum      Nyitó ár    Maximum ár    Minimum ár     Utolsó ár\n",
       "0  BUX  2016.01.04.  23920.455062  23920.455062  23509.118191  23632.571544\n",
       "1  BUX  2016.01.05.  23632.571544  23861.387786  23632.571544  23861.387786\n",
       "2  BUX  2016.01.06.  23787.452447  24000.535907  23632.380895  24000.535907\n",
       "3  BUX  2016.01.07.  24000.129335  24000.535907  23467.548329  23595.103473\n",
       "4  BUX  2016.01.08.  23595.103473  24027.320338  23595.103473  23956.194258"
      ]
     },
     "execution_count": 2,
     "metadata": {},
     "output_type": "execute_result"
    }
   ],
   "source": [
    "#forrás: https://www.bet.hu/oldalak/adatletoltes\n",
    "otp = pd.read_csv('data\\otp_2016_01_01__2021_02_11.csv')\n",
    "zwack=pd.read_csv('data\\zwack_2016_01_01__2021_02_11.csv')\n",
    "bux=pd.read_csv('data\\BUX_historikus_2016_01_01__2021_02_11_.csv')\n",
    "bux.head()"
   ]
  },
  {
   "cell_type": "code",
   "execution_count": 3,
   "metadata": {},
   "outputs": [],
   "source": [
    "prices = pd.DataFrame()\n",
    "prices['otp'] = otp['Utolsó ár']\n",
    "prices['zwack']=zwack['Utolsó ár']\n",
    "prices['bux']=bux['Utolsó ár']"
   ]
  },
  {
   "cell_type": "code",
   "execution_count": 4,
   "metadata": {},
   "outputs": [
    {
     "data": {
      "text/html": [
       "<div>\n",
       "<style scoped>\n",
       "    .dataframe tbody tr th:only-of-type {\n",
       "        vertical-align: middle;\n",
       "    }\n",
       "\n",
       "    .dataframe tbody tr th {\n",
       "        vertical-align: top;\n",
       "    }\n",
       "\n",
       "    .dataframe thead th {\n",
       "        text-align: right;\n",
       "    }\n",
       "</style>\n",
       "<table border=\"1\" class=\"dataframe\">\n",
       "  <thead>\n",
       "    <tr style=\"text-align: right;\">\n",
       "      <th></th>\n",
       "      <th>otp</th>\n",
       "      <th>zwack</th>\n",
       "      <th>bux</th>\n",
       "    </tr>\n",
       "  </thead>\n",
       "  <tbody>\n",
       "    <tr>\n",
       "      <th>otp</th>\n",
       "      <td>0.000329</td>\n",
       "      <td>0.000018</td>\n",
       "      <td>0.000187</td>\n",
       "    </tr>\n",
       "    <tr>\n",
       "      <th>zwack</th>\n",
       "      <td>0.000018</td>\n",
       "      <td>0.000042</td>\n",
       "      <td>0.000013</td>\n",
       "    </tr>\n",
       "    <tr>\n",
       "      <th>bux</th>\n",
       "      <td>0.000187</td>\n",
       "      <td>0.000013</td>\n",
       "      <td>0.000146</td>\n",
       "    </tr>\n",
       "  </tbody>\n",
       "</table>\n",
       "</div>"
      ],
      "text/plain": [
       "            otp     zwack       bux\n",
       "otp    0.000329  0.000018  0.000187\n",
       "zwack  0.000018  0.000042  0.000013\n",
       "bux    0.000187  0.000013  0.000146"
      ]
     },
     "execution_count": 4,
     "metadata": {},
     "output_type": "execute_result"
    }
   ],
   "source": [
    "cov_matrix = prices.pct_change().apply(lambda x: np.log(1+x)).cov()\n",
    "cov_matrix"
   ]
  },
  {
   "cell_type": "code",
   "execution_count": 5,
   "metadata": {},
   "outputs": [
    {
     "data": {
      "text/plain": [
       "otp      0.000800\n",
       "zwack   -0.000024\n",
       "bux      0.000555\n",
       "dtype: float64"
      ]
     },
     "execution_count": 5,
     "metadata": {},
     "output_type": "execute_result"
    }
   ],
   "source": [
    "e_r = prices.pct_change().mean()\n",
    "e_r"
   ]
  },
  {
   "cell_type": "code",
   "execution_count": 6,
   "metadata": {},
   "outputs": [
    {
     "data": {
      "text/plain": [
       "otp      0.286740\n",
       "zwack    0.102295\n",
       "bux      0.190926\n",
       "dtype: float64"
      ]
     },
     "execution_count": 6,
     "metadata": {},
     "output_type": "execute_result"
    }
   ],
   "source": [
    "sd = prices.pct_change().apply(lambda x: np.log(1+x)).std().apply(lambda x: x*np.sqrt(250))\n",
    "sd"
   ]
  },
  {
   "cell_type": "code",
   "execution_count": 7,
   "metadata": {},
   "outputs": [
    {
     "data": {
      "text/html": [
       "<div>\n",
       "<style scoped>\n",
       "    .dataframe tbody tr th:only-of-type {\n",
       "        vertical-align: middle;\n",
       "    }\n",
       "\n",
       "    .dataframe tbody tr th {\n",
       "        vertical-align: top;\n",
       "    }\n",
       "\n",
       "    .dataframe thead th {\n",
       "        text-align: right;\n",
       "    }\n",
       "</style>\n",
       "<table border=\"1\" class=\"dataframe\">\n",
       "  <thead>\n",
       "    <tr style=\"text-align: right;\">\n",
       "      <th></th>\n",
       "      <th>Returns</th>\n",
       "      <th>Volatility</th>\n",
       "    </tr>\n",
       "  </thead>\n",
       "  <tbody>\n",
       "    <tr>\n",
       "      <th>otp</th>\n",
       "      <td>0.000800</td>\n",
       "      <td>0.286740</td>\n",
       "    </tr>\n",
       "    <tr>\n",
       "      <th>zwack</th>\n",
       "      <td>-0.000024</td>\n",
       "      <td>0.102295</td>\n",
       "    </tr>\n",
       "    <tr>\n",
       "      <th>bux</th>\n",
       "      <td>0.000555</td>\n",
       "      <td>0.190926</td>\n",
       "    </tr>\n",
       "  </tbody>\n",
       "</table>\n",
       "</div>"
      ],
      "text/plain": [
       "        Returns  Volatility\n",
       "otp    0.000800    0.286740\n",
       "zwack -0.000024    0.102295\n",
       "bux    0.000555    0.190926"
      ]
     },
     "execution_count": 7,
     "metadata": {},
     "output_type": "execute_result"
    }
   ],
   "source": [
    "assets = pd.concat([e_r, sd], axis=1)\n",
    "assets.columns = ['Returns', 'Volatility']\n",
    "assets"
   ]
  },
  {
   "cell_type": "code",
   "execution_count": 8,
   "metadata": {},
   "outputs": [],
   "source": [
    "p_ret = []\n",
    "p_vol = []\n",
    "p_weights = []\n",
    "\n",
    "num_assets = len(prices.columns)\n",
    "num_portfolios = 1000"
   ]
  },
  {
   "cell_type": "code",
   "execution_count": 9,
   "metadata": {},
   "outputs": [],
   "source": [
    "for portfolio in range(num_portfolios):\n",
    "    weights = np.random.random(num_assets)\n",
    "    weights = weights/np.sum(weights)\n",
    "    p_weights.append(weights)\n",
    "    returns = np.dot(weights, e_r)\n",
    "    p_ret.append(returns)\n",
    "    var = cov_matrix.mul(weights, axis=0).mul(weights, axis=1).sum().sum()\n",
    "    sd = np.sqrt(var)\n",
    "    ann_sd = sd*np.sqrt(250)\n",
    "    p_vol.append(ann_sd)"
   ]
  },
  {
   "cell_type": "code",
   "execution_count": 10,
   "metadata": {},
   "outputs": [],
   "source": [
    "data = {'Returns':p_ret, 'Volatility':p_vol}"
   ]
  },
  {
   "cell_type": "code",
   "execution_count": 11,
   "metadata": {},
   "outputs": [],
   "source": [
    "for counter, symbol in enumerate(prices.columns.tolist()):\n",
    "    data[symbol+' weight'] = [w[counter] for w in p_weights]"
   ]
  },
  {
   "cell_type": "code",
   "execution_count": 12,
   "metadata": {},
   "outputs": [
    {
     "data": {
      "text/html": [
       "<div>\n",
       "<style scoped>\n",
       "    .dataframe tbody tr th:only-of-type {\n",
       "        vertical-align: middle;\n",
       "    }\n",
       "\n",
       "    .dataframe tbody tr th {\n",
       "        vertical-align: top;\n",
       "    }\n",
       "\n",
       "    .dataframe thead th {\n",
       "        text-align: right;\n",
       "    }\n",
       "</style>\n",
       "<table border=\"1\" class=\"dataframe\">\n",
       "  <thead>\n",
       "    <tr style=\"text-align: right;\">\n",
       "      <th></th>\n",
       "      <th>Returns</th>\n",
       "      <th>Volatility</th>\n",
       "      <th>otp weight</th>\n",
       "      <th>zwack weight</th>\n",
       "      <th>bux weight</th>\n",
       "    </tr>\n",
       "  </thead>\n",
       "  <tbody>\n",
       "    <tr>\n",
       "      <th>0</th>\n",
       "      <td>0.000441</td>\n",
       "      <td>0.159838</td>\n",
       "      <td>0.268481</td>\n",
       "      <td>0.310863</td>\n",
       "      <td>0.420656</td>\n",
       "    </tr>\n",
       "    <tr>\n",
       "      <th>1</th>\n",
       "      <td>0.000358</td>\n",
       "      <td>0.138054</td>\n",
       "      <td>0.195910</td>\n",
       "      <td>0.423928</td>\n",
       "      <td>0.380162</td>\n",
       "    </tr>\n",
       "    <tr>\n",
       "      <th>2</th>\n",
       "      <td>0.000214</td>\n",
       "      <td>0.106652</td>\n",
       "      <td>0.001251</td>\n",
       "      <td>0.588620</td>\n",
       "      <td>0.410129</td>\n",
       "    </tr>\n",
       "    <tr>\n",
       "      <th>3</th>\n",
       "      <td>0.000376</td>\n",
       "      <td>0.144349</td>\n",
       "      <td>0.265859</td>\n",
       "      <td>0.422273</td>\n",
       "      <td>0.311868</td>\n",
       "    </tr>\n",
       "    <tr>\n",
       "      <th>4</th>\n",
       "      <td>0.000349</td>\n",
       "      <td>0.139508</td>\n",
       "      <td>0.286131</td>\n",
       "      <td>0.476640</td>\n",
       "      <td>0.237229</td>\n",
       "    </tr>\n",
       "  </tbody>\n",
       "</table>\n",
       "</div>"
      ],
      "text/plain": [
       "    Returns  Volatility  otp weight  zwack weight  bux weight\n",
       "0  0.000441    0.159838    0.268481      0.310863    0.420656\n",
       "1  0.000358    0.138054    0.195910      0.423928    0.380162\n",
       "2  0.000214    0.106652    0.001251      0.588620    0.410129\n",
       "3  0.000376    0.144349    0.265859      0.422273    0.311868\n",
       "4  0.000349    0.139508    0.286131      0.476640    0.237229"
      ]
     },
     "execution_count": 12,
     "metadata": {},
     "output_type": "execute_result"
    }
   ],
   "source": [
    "portfolios = pd.DataFrame(data)\n",
    "portfolios.head()"
   ]
  },
  {
   "cell_type": "code",
   "execution_count": 13,
   "metadata": {},
   "outputs": [
    {
     "data": {
      "text/plain": [
       "<AxesSubplot:xlabel='Volatility', ylabel='Returns'>"
      ]
     },
     "execution_count": 13,
     "metadata": {},
     "output_type": "execute_result"
    },
    {
     "data": {
      "image/png": "[encoded data removed]",
      "text/plain": [
       "<Figure size 432x288 with 1 Axes>"
      ]
     },
     "metadata": {
      "needs_background": "light"
     },
     "output_type": "display_data"
    }
   ],
   "source": [
    "portfolios.plot.scatter(x='Volatility', y='Returns', grid=True)"
   ]
  },
  {
   "cell_type": "markdown",
   "metadata": {},
   "source": [
    "# Global Minimum Variance Portfolio"
   ]
  },
  {
   "cell_type": "code",
   "execution_count": 14,
   "metadata": {},
   "outputs": [
    {
     "data": {
      "text/html": [
       "<div>\n",
       "<style scoped>\n",
       "    .dataframe tbody tr th:only-of-type {\n",
       "        vertical-align: middle;\n",
       "    }\n",
       "\n",
       "    .dataframe tbody tr th {\n",
       "        vertical-align: top;\n",
       "    }\n",
       "\n",
       "    .dataframe thead th {\n",
       "        text-align: right;\n",
       "    }\n",
       "</style>\n",
       "<table border=\"1\" class=\"dataframe\">\n",
       "  <thead>\n",
       "    <tr style=\"text-align: right;\">\n",
       "      <th></th>\n",
       "      <th>Returns</th>\n",
       "      <th>Volatility</th>\n",
       "      <th>otp weight</th>\n",
       "      <th>zwack weight</th>\n",
       "      <th>bux weight</th>\n",
       "    </tr>\n",
       "  </thead>\n",
       "  <tbody>\n",
       "    <tr>\n",
       "      <th>160</th>\n",
       "      <td>0.000087</td>\n",
       "      <td>0.095874</td>\n",
       "      <td>0.002056</td>\n",
       "      <td>0.808348</td>\n",
       "      <td>0.189597</td>\n",
       "    </tr>\n",
       "  </tbody>\n",
       "</table>\n",
       "</div>"
      ],
      "text/plain": [
       "      Returns  Volatility  otp weight  zwack weight  bux weight\n",
       "160  0.000087    0.095874    0.002056      0.808348    0.189597"
      ]
     },
     "execution_count": 14,
     "metadata": {},
     "output_type": "execute_result"
    }
   ],
   "source": [
    "portfolios[portfolios['Volatility']==portfolios['Volatility'].min()]"
   ]
  },
  {
   "cell_type": "code",
   "execution_count": 15,
   "metadata": {},
   "outputs": [
    {
     "data": {
      "text/plain": [
       "Returns         0.000087\n",
       "Volatility      0.095874\n",
       "otp weight      0.002056\n",
       "zwack weight    0.808348\n",
       "bux weight      0.189597\n",
       "Name: 160, dtype: float64"
      ]
     },
     "execution_count": 15,
     "metadata": {},
     "output_type": "execute_result"
    }
   ],
   "source": [
    "min_var_port = portfolios.iloc[portfolios['Volatility'].idxmin()]\n",
    "min_var_port"
   ]
  },
  {
   "cell_type": "code",
   "execution_count": 33,
   "metadata": {},
   "outputs": [
    {
     "data": {
      "text/plain": [
       "<matplotlib.collections.PathCollection at 0x1f7396b4400>"
      ]
     },
     "execution_count": 33,
     "metadata": {},
     "output_type": "execute_result"
    },
    {
     "data": {
      "image/png": "[encoded data removed]",
      "text/plain": [
       "<Figure size 432x288 with 1 Axes>"
      ]
     },
     "metadata": {
      "needs_background": "light"
     },
     "output_type": "display_data"
    }
   ],
   "source": [
    "import matplotlib.pyplot as plt\n",
    "plt.subplots()\n",
    "plt.scatter(portfolios['Volatility'], portfolios['Returns'])\n",
    "plt.scatter(min_var_port[1], min_var_port[0], color='r')"
   ]
  },
  {
   "cell_type": "markdown",
   "metadata": {},
   "source": [
    "# Optimal Risky Portfolio"
   ]
  },
  {
   "cell_type": "markdown",
   "metadata": {},
   "source": [
    "$$Sharpe Ratio = \\frac{E(R_i)-rf}{\\sigma_i}$$"
   ]
  },
  {
   "cell_type": "code",
   "execution_count": 17,
   "metadata": {},
   "outputs": [],
   "source": [
    "rf = 0.005"
   ]
  },
  {
   "cell_type": "code",
   "execution_count": 18,
   "metadata": {},
   "outputs": [
    {
     "data": {
      "text/plain": [
       "405"
      ]
     },
     "execution_count": 18,
     "metadata": {},
     "output_type": "execute_result"
    }
   ],
   "source": [
    "((portfolios['Returns']-rf)/portfolios['Volatility']).idxmax()"
   ]
  },
  {
   "cell_type": "code",
   "execution_count": 19,
   "metadata": {},
   "outputs": [
    {
     "data": {
      "text/plain": [
       "Returns         0.000780\n",
       "Volatility      0.278945\n",
       "otp weight      0.955069\n",
       "zwack weight    0.015341\n",
       "bux weight      0.029590\n",
       "Name: 405, dtype: float64"
      ]
     },
     "execution_count": 19,
     "metadata": {},
     "output_type": "execute_result"
    }
   ],
   "source": [
    "optimal_risky_port = portfolios.iloc[((portfolios['Returns']-rf)/portfolios['Volatility']).idxmax()]\n",
    "optimal_risky_port"
   ]
  },
  {
   "cell_type": "code",
   "execution_count": 20,
   "metadata": {},
   "outputs": [
    {
     "data": {
      "text/plain": [
       "<matplotlib.collections.PathCollection at 0x1f739669c70>"
      ]
     },
     "execution_count": 20,
     "metadata": {},
     "output_type": "execute_result"
    },
    {
     "data": {
      "image/png": "[encoded data removed]",
      "text/plain": [
       "<Figure size 432x288 with 1 Axes>"
      ]
     },
     "metadata": {
      "needs_background": "light"
     },
     "output_type": "display_data"
    }
   ],
   "source": [
    "plt.subplots()\n",
    "plt.scatter(portfolios['Volatility'], portfolios['Returns'])\n",
    "plt.scatter(min_var_port[1], min_var_port[0], color='k')\n",
    "plt.scatter(optimal_risky_port[1], optimal_risky_port[0], color='r')"
   ]
  },
  {
   "cell_type": "markdown",
   "metadata": {},
   "source": [
    "# Utility Function"
   ]
  },
  {
   "cell_type": "markdown",
   "metadata": {},
   "source": [
    "$$U = E(R)-0.5A\\sigma^2$$"
   ]
  },
  {
   "cell_type": "markdown",
   "metadata": {},
   "source": [
    "# Capital Allocation Line"
   ]
  },
  {
   "cell_type": "markdown",
   "metadata": {},
   "source": [
    "$$E(R_P) = rf + \\frac{E(R_i)-rf}{\\sigma_i}\\sigma_p$$"
   ]
  },
  {
   "cell_type": "code",
   "execution_count": 29,
   "metadata": {},
   "outputs": [],
   "source": [
    "cal_x = []\n",
    "cal_y = []\n",
    "utility = []\n",
    "a = 1"
   ]
  },
  {
   "cell_type": "code",
   "execution_count": 30,
   "metadata": {},
   "outputs": [],
   "source": [
    "for er in np.linspace(rf, max(p_ret), 20):\n",
    "    sd = (er - rf)/((optimal_risky_port[0]-rf)/optimal_risky_port[1])\n",
    "    u = er - .5*a*(sd**2)\n",
    "    cal_x.append(sd)\n",
    "    cal_y.append(er)\n",
    "    utility.append(u)"
   ]
  },
  {
   "cell_type": "code",
   "execution_count": 31,
   "metadata": {},
   "outputs": [
    {
     "data": {
      "text/html": [
       "<div>\n",
       "<style scoped>\n",
       "    .dataframe tbody tr th:only-of-type {\n",
       "        vertical-align: middle;\n",
       "    }\n",
       "\n",
       "    .dataframe tbody tr th {\n",
       "        vertical-align: top;\n",
       "    }\n",
       "\n",
       "    .dataframe thead th {\n",
       "        text-align: right;\n",
       "    }\n",
       "</style>\n",
       "<table border=\"1\" class=\"dataframe\">\n",
       "  <thead>\n",
       "    <tr style=\"text-align: right;\">\n",
       "      <th></th>\n",
       "      <th>utility</th>\n",
       "      <th>cal_y</th>\n",
       "      <th>cal_x</th>\n",
       "    </tr>\n",
       "  </thead>\n",
       "  <tbody>\n",
       "    <tr>\n",
       "      <th>0</th>\n",
       "      <td>0.005000</td>\n",
       "      <td>0.005000</td>\n",
       "      <td>-0.000000</td>\n",
       "    </tr>\n",
       "    <tr>\n",
       "      <th>1</th>\n",
       "      <td>0.004670</td>\n",
       "      <td>0.004778</td>\n",
       "      <td>0.014681</td>\n",
       "    </tr>\n",
       "    <tr>\n",
       "      <th>2</th>\n",
       "      <td>0.004125</td>\n",
       "      <td>0.004556</td>\n",
       "      <td>0.029363</td>\n",
       "    </tr>\n",
       "    <tr>\n",
       "      <th>3</th>\n",
       "      <td>0.003364</td>\n",
       "      <td>0.004334</td>\n",
       "      <td>0.044044</td>\n",
       "    </tr>\n",
       "    <tr>\n",
       "      <th>4</th>\n",
       "      <td>0.002387</td>\n",
       "      <td>0.004112</td>\n",
       "      <td>0.058725</td>\n",
       "    </tr>\n",
       "  </tbody>\n",
       "</table>\n",
       "</div>"
      ],
      "text/plain": [
       "    utility     cal_y     cal_x\n",
       "0  0.005000  0.005000 -0.000000\n",
       "1  0.004670  0.004778  0.014681\n",
       "2  0.004125  0.004556  0.029363\n",
       "3  0.003364  0.004334  0.044044\n",
       "4  0.002387  0.004112  0.058725"
      ]
     },
     "execution_count": 31,
     "metadata": {},
     "output_type": "execute_result"
    }
   ],
   "source": [
    "data2 = {'utility':utility, 'cal_y':cal_y, 'cal_x':cal_x}\n",
    "cal = pd.DataFrame(data2)\n",
    "cal.head()"
   ]
  },
  {
   "cell_type": "code",
   "execution_count": 32,
   "metadata": {},
   "outputs": [
    {
     "data": {
      "text/plain": [
       "[<matplotlib.lines.Line2D at 0x1f7397fe580>]"
      ]
     },
     "execution_count": 32,
     "metadata": {},
     "output_type": "execute_result"
    },
    {
     "data": {
      "image/png": "[encoded data removed]",
      "text/plain": [
       "<Figure size 720x360 with 1 Axes>"
      ]
     },
     "metadata": {
      "needs_background": "light"
     },
     "output_type": "display_data"
    }
   ],
   "source": [
    "plt.subplots(figsize=(10,5))\n",
    "plt.scatter(portfolios['Volatility'], portfolios['Returns'])\n",
    "plt.scatter(min_var_port[1], min_var_port[0], color='y')\n",
    "plt.scatter(optimal_risky_port[1], optimal_risky_port[0], color='g')\n",
    "plt.plot(cal_x, cal_y, color='r')"
   ]
  },
  {
   "cell_type": "markdown",
   "metadata": {},
   "source": [
    "# Investor's Optimal Portfolio"
   ]
  },
  {
   "cell_type": "code",
   "execution_count": 25,
   "metadata": {},
   "outputs": [
    {
     "data": {
      "text/plain": [
       "0"
      ]
     },
     "execution_count": 25,
     "metadata": {},
     "output_type": "execute_result"
    }
   ],
   "source": [
    "cal['utility'].idxmax()"
   ]
  },
  {
   "cell_type": "code",
   "execution_count": 26,
   "metadata": {},
   "outputs": [
    {
     "data": {
      "text/plain": [
       "utility    0.005\n",
       "cal_y      0.005\n",
       "cal_x     -0.000\n",
       "Name: 0, dtype: float64"
      ]
     },
     "execution_count": 26,
     "metadata": {},
     "output_type": "execute_result"
    }
   ],
   "source": [
    "investors_port = cal.iloc[cal['utility'].idxmax()]\n",
    "investors_port"
   ]
  },
  {
   "cell_type": "code",
   "execution_count": 28,
   "metadata": {},
   "outputs": [
    {
     "data": {
      "text/plain": [
       "[<matplotlib.lines.Line2D at 0x1f7397942e0>]"
      ]
     },
     "execution_count": 28,
     "metadata": {},
     "output_type": "execute_result"
    },
    {
     "data": {
      "image/png": "[encoded data removed]",
      "text/plain": [
       "<Figure size 432x288 with 1 Axes>"
      ]
     },
     "metadata": {
      "needs_background": "light"
     },
     "output_type": "display_data"
    }
   ],
   "source": [
    "plt.subplots()\n",
    "plt.scatter(portfolios['Volatility'], portfolios['Returns'])\n",
    "plt.scatter(min_var_port[1], min_var_port[0], color='y')\n",
    "plt.scatter(optimal_risky_port[1], optimal_risky_port[0], color='g')\n",
    "plt.plot(cal_x, cal_y, color='r')\n",
    "plt.plot(investors_port[2], investors_port[1], 'o', color='b')"
   ]
  },
  {
   "cell_type": "code",
   "execution_count": null,
   "metadata": {},
   "outputs": [],
   "source": []
  },
  {
   "cell_type": "code",
   "execution_count": null,
   "metadata": {},
   "outputs": [],
   "source": []
  }
 ],
 "metadata": {
  "kernelspec": {
   "display_name": "Python 3",
   "language": "python",
   "name": "python3"
  },
  "language_info": {
   "codemirror_mode": {
    "name": "ipython",
    "version": 3
   },
   "file_extension": ".py",
   "mimetype": "text/x-python",
   "name": "python",
   "nbconvert_exporter": "python",
   "pygments_lexer": "ipython3",
   "version": "3.8.2"
  }
 },
 "nbformat": 4,
 "nbformat_minor": 4
}
