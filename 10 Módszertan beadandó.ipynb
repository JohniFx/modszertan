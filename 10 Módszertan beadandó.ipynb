{
 "cells": [
  {
   "cell_type": "code",
   "execution_count": 1,
   "metadata": {},
   "outputs": [],
   "source": [
    "import pandas as pd\n",
    "import yfinance as yf\n",
    "import numpy as np\n",
    "import matplotlib.pyplot as plt\n",
    "import scipy.stats as stats\n",
    "import seaborn as sns\n",
    "from IPython.display import Latex, display, Markdown"
   ]
  },
  {
   "cell_type": "markdown",
   "metadata": {},
   "source": [
    "# Módszertan II\n",
    "Befektetéselemzési, árampiaci és gázpiaci példákkal"
   ]
  },
  {
   "cell_type": "markdown",
   "metadata": {},
   "source": [
    "## 1. Leíró statisztika"
   ]
  },
  {
   "cell_type": "raw",
   "metadata": {},
   "source": [
    "### Elhelyezkedési\n",
    "- átlag\n",
    "- median\n",
    "\n",
    "### Szóródást jellemző függvények\n",
    "- szórás\n",
    "- interkvartilis terjedelem\n",
    "\n",
    "### Kapcsolatot jellemző statisztikák\n",
    "- korrelációs együttható\n",
    "- rangkorreláció"
   ]
  },
  {
   "cell_type": "code",
   "execution_count": 2,
   "metadata": {},
   "outputs": [
    {
     "name": "stdout",
     "output_type": "stream",
     "text": [
      "[*********************100%***********************]  1 of 1 completed\n"
     ]
    }
   ],
   "source": [
    "otp= yf.download('OTP.BD')"
   ]
  },
  {
   "cell_type": "code",
   "execution_count": 3,
   "metadata": {},
   "outputs": [
    {
     "data": {
      "text/html": [
       "<div>\n",
       "<style scoped>\n",
       "    .dataframe tbody tr th:only-of-type {\n",
       "        vertical-align: middle;\n",
       "    }\n",
       "\n",
       "    .dataframe tbody tr th {\n",
       "        vertical-align: top;\n",
       "    }\n",
       "\n",
       "    .dataframe thead th {\n",
       "        text-align: right;\n",
       "    }\n",
       "</style>\n",
       "<table border=\"1\" class=\"dataframe\">\n",
       "  <thead>\n",
       "    <tr style=\"text-align: right;\">\n",
       "      <th></th>\n",
       "      <th>Open</th>\n",
       "      <th>High</th>\n",
       "      <th>Low</th>\n",
       "      <th>Close</th>\n",
       "      <th>Adj Close</th>\n",
       "      <th>Volume</th>\n",
       "    </tr>\n",
       "    <tr>\n",
       "      <th>Date</th>\n",
       "      <th></th>\n",
       "      <th></th>\n",
       "      <th></th>\n",
       "      <th></th>\n",
       "      <th></th>\n",
       "      <th></th>\n",
       "    </tr>\n",
       "  </thead>\n",
       "  <tbody>\n",
       "    <tr>\n",
       "      <th>2002-03-05</th>\n",
       "      <td>2100.0</td>\n",
       "      <td>2190.0</td>\n",
       "      <td>2082.0</td>\n",
       "      <td>2190.0</td>\n",
       "      <td>1611.094604</td>\n",
       "      <td>1726700</td>\n",
       "    </tr>\n",
       "    <tr>\n",
       "      <th>2002-03-06</th>\n",
       "      <td>2177.0</td>\n",
       "      <td>2251.0</td>\n",
       "      <td>2151.0</td>\n",
       "      <td>2240.0</td>\n",
       "      <td>1647.877563</td>\n",
       "      <td>898300</td>\n",
       "    </tr>\n",
       "    <tr>\n",
       "      <th>2002-03-07</th>\n",
       "      <td>2261.0</td>\n",
       "      <td>2300.0</td>\n",
       "      <td>2241.0</td>\n",
       "      <td>2295.0</td>\n",
       "      <td>1688.338867</td>\n",
       "      <td>763700</td>\n",
       "    </tr>\n",
       "    <tr>\n",
       "      <th>2002-03-08</th>\n",
       "      <td>2265.0</td>\n",
       "      <td>2282.0</td>\n",
       "      <td>2243.0</td>\n",
       "      <td>2280.0</td>\n",
       "      <td>1677.303955</td>\n",
       "      <td>402000</td>\n",
       "    </tr>\n",
       "    <tr>\n",
       "      <th>2002-03-11</th>\n",
       "      <td>2254.0</td>\n",
       "      <td>2259.0</td>\n",
       "      <td>2151.0</td>\n",
       "      <td>2159.0</td>\n",
       "      <td>1588.289185</td>\n",
       "      <td>439600</td>\n",
       "    </tr>\n",
       "  </tbody>\n",
       "</table>\n",
       "</div>"
      ],
      "text/plain": [
       "              Open    High     Low   Close    Adj Close   Volume\n",
       "Date                                                            \n",
       "2002-03-05  2100.0  2190.0  2082.0  2190.0  1611.094604  1726700\n",
       "2002-03-06  2177.0  2251.0  2151.0  2240.0  1647.877563   898300\n",
       "2002-03-07  2261.0  2300.0  2241.0  2295.0  1688.338867   763700\n",
       "2002-03-08  2265.0  2282.0  2243.0  2280.0  1677.303955   402000\n",
       "2002-03-11  2254.0  2259.0  2151.0  2159.0  1588.289185   439600"
      ]
     },
     "execution_count": 3,
     "metadata": {},
     "output_type": "execute_result"
    }
   ],
   "source": [
    "otp.head()"
   ]
  },
  {
   "cell_type": "code",
   "execution_count": 4,
   "metadata": {},
   "outputs": [
    {
     "data": {
      "image/png": "[encoded data removed]",
      "text/plain": [
       "<Figure size 432x288 with 1 Axes>"
      ]
     },
     "metadata": {
      "needs_background": "light"
     },
     "output_type": "display_data"
    }
   ],
   "source": [
    "ax=otp.Close.plot()"
   ]
  },
  {
   "cell_type": "code",
   "execution_count": 5,
   "metadata": {},
   "outputs": [],
   "source": [
    "#Hozam számolás\n",
    "# egyszerű hozam\n",
    "otp['simple_return'] = otp.Close.pct_change()\n",
    "# log hozam\n",
    "otp['log_return'] = np.log(otp.Close/otp.Close.shift(1))"
   ]
  },
  {
   "cell_type": "code",
   "execution_count": 6,
   "metadata": {},
   "outputs": [
    {
     "data": {
      "text/html": [
       "<div>\n",
       "<style scoped>\n",
       "    .dataframe tbody tr th:only-of-type {\n",
       "        vertical-align: middle;\n",
       "    }\n",
       "\n",
       "    .dataframe tbody tr th {\n",
       "        vertical-align: top;\n",
       "    }\n",
       "\n",
       "    .dataframe thead th {\n",
       "        text-align: right;\n",
       "    }\n",
       "</style>\n",
       "<table border=\"1\" class=\"dataframe\">\n",
       "  <thead>\n",
       "    <tr style=\"text-align: right;\">\n",
       "      <th></th>\n",
       "      <th>Open</th>\n",
       "      <th>High</th>\n",
       "      <th>Low</th>\n",
       "      <th>Close</th>\n",
       "      <th>Adj Close</th>\n",
       "      <th>Volume</th>\n",
       "      <th>simple_return</th>\n",
       "      <th>log_return</th>\n",
       "    </tr>\n",
       "    <tr>\n",
       "      <th>Date</th>\n",
       "      <th></th>\n",
       "      <th></th>\n",
       "      <th></th>\n",
       "      <th></th>\n",
       "      <th></th>\n",
       "      <th></th>\n",
       "      <th></th>\n",
       "      <th></th>\n",
       "    </tr>\n",
       "  </thead>\n",
       "  <tbody>\n",
       "    <tr>\n",
       "      <th>2002-03-05</th>\n",
       "      <td>2100.0</td>\n",
       "      <td>2190.0</td>\n",
       "      <td>2082.0</td>\n",
       "      <td>2190.0</td>\n",
       "      <td>1611.094604</td>\n",
       "      <td>1726700</td>\n",
       "      <td>NaN</td>\n",
       "      <td>NaN</td>\n",
       "    </tr>\n",
       "    <tr>\n",
       "      <th>2002-03-06</th>\n",
       "      <td>2177.0</td>\n",
       "      <td>2251.0</td>\n",
       "      <td>2151.0</td>\n",
       "      <td>2240.0</td>\n",
       "      <td>1647.877563</td>\n",
       "      <td>898300</td>\n",
       "      <td>0.022831</td>\n",
       "      <td>0.022574</td>\n",
       "    </tr>\n",
       "    <tr>\n",
       "      <th>2002-03-07</th>\n",
       "      <td>2261.0</td>\n",
       "      <td>2300.0</td>\n",
       "      <td>2241.0</td>\n",
       "      <td>2295.0</td>\n",
       "      <td>1688.338867</td>\n",
       "      <td>763700</td>\n",
       "      <td>0.024554</td>\n",
       "      <td>0.024257</td>\n",
       "    </tr>\n",
       "    <tr>\n",
       "      <th>2002-03-08</th>\n",
       "      <td>2265.0</td>\n",
       "      <td>2282.0</td>\n",
       "      <td>2243.0</td>\n",
       "      <td>2280.0</td>\n",
       "      <td>1677.303955</td>\n",
       "      <td>402000</td>\n",
       "      <td>-0.006536</td>\n",
       "      <td>-0.006557</td>\n",
       "    </tr>\n",
       "    <tr>\n",
       "      <th>2002-03-11</th>\n",
       "      <td>2254.0</td>\n",
       "      <td>2259.0</td>\n",
       "      <td>2151.0</td>\n",
       "      <td>2159.0</td>\n",
       "      <td>1588.289185</td>\n",
       "      <td>439600</td>\n",
       "      <td>-0.053070</td>\n",
       "      <td>-0.054530</td>\n",
       "    </tr>\n",
       "  </tbody>\n",
       "</table>\n",
       "</div>"
      ],
      "text/plain": [
       "              Open    High     Low   Close    Adj Close   Volume  \\\n",
       "Date                                                               \n",
       "2002-03-05  2100.0  2190.0  2082.0  2190.0  1611.094604  1726700   \n",
       "2002-03-06  2177.0  2251.0  2151.0  2240.0  1647.877563   898300   \n",
       "2002-03-07  2261.0  2300.0  2241.0  2295.0  1688.338867   763700   \n",
       "2002-03-08  2265.0  2282.0  2243.0  2280.0  1677.303955   402000   \n",
       "2002-03-11  2254.0  2259.0  2151.0  2159.0  1588.289185   439600   \n",
       "\n",
       "            simple_return  log_return  \n",
       "Date                                   \n",
       "2002-03-05            NaN         NaN  \n",
       "2002-03-06       0.022831    0.022574  \n",
       "2002-03-07       0.024554    0.024257  \n",
       "2002-03-08      -0.006536   -0.006557  \n",
       "2002-03-11      -0.053070   -0.054530  "
      ]
     },
     "execution_count": 6,
     "metadata": {},
     "output_type": "execute_result"
    }
   ],
   "source": [
    "otp.head()"
   ]
  },
  {
   "cell_type": "code",
   "execution_count": 7,
   "metadata": {},
   "outputs": [
    {
     "data": {
      "image/png": "[encoded data removed]",
      "text/plain": [
       "<Figure size 432x288 with 1 Axes>"
      ]
     },
     "metadata": {
      "needs_background": "light"
     },
     "output_type": "display_data"
    }
   ],
   "source": [
    "ax=otp.simple_return.plot()"
   ]
  },
  {
   "cell_type": "code",
   "execution_count": 8,
   "metadata": {},
   "outputs": [
    {
     "data": {
      "image/png": "[encoded data removed]",
      "text/plain": [
       "<Figure size 432x288 with 1 Axes>"
      ]
     },
     "metadata": {
      "needs_background": "light"
     },
     "output_type": "display_data"
    }
   ],
   "source": [
    "otp.simple_return.cumsum().plot()\n",
    "ax=otp.log_return.cumsum().plot()"
   ]
  },
  {
   "cell_type": "code",
   "execution_count": 9,
   "metadata": {},
   "outputs": [
    {
     "data": {
      "image/png": "[encoded data removed]",
      "text/plain": [
       "<Figure size 432x288 with 1 Axes>"
      ]
     },
     "metadata": {
      "needs_background": "light"
     },
     "output_type": "display_data"
    }
   ],
   "source": [
    "ax=otp.log_return.hist(bins=20)"
   ]
  },
  {
   "cell_type": "code",
   "execution_count": 10,
   "metadata": {},
   "outputs": [
    {
     "data": {
      "text/plain": [
       "13354.957103741532"
      ]
     },
     "execution_count": 10,
     "metadata": {},
     "output_type": "execute_result"
    }
   ],
   "source": [
    "otp.Close[0] * np.exp(len(otp)*otp.log_return.mean())"
   ]
  },
  {
   "cell_type": "code",
   "execution_count": 11,
   "metadata": {},
   "outputs": [
    {
     "data": {
      "text/plain": [
       "13350.0"
      ]
     },
     "execution_count": 11,
     "metadata": {},
     "output_type": "execute_result"
    }
   ],
   "source": [
    "otp.Close[-1]"
   ]
  },
  {
   "cell_type": "code",
   "execution_count": 12,
   "metadata": {},
   "outputs": [
    {
     "data": {
      "text/html": [
       "<div>\n",
       "<style scoped>\n",
       "    .dataframe tbody tr th:only-of-type {\n",
       "        vertical-align: middle;\n",
       "    }\n",
       "\n",
       "    .dataframe tbody tr th {\n",
       "        vertical-align: top;\n",
       "    }\n",
       "\n",
       "    .dataframe thead th {\n",
       "        text-align: right;\n",
       "    }\n",
       "</style>\n",
       "<table border=\"1\" class=\"dataframe\">\n",
       "  <thead>\n",
       "    <tr style=\"text-align: right;\">\n",
       "      <th></th>\n",
       "      <th>Open</th>\n",
       "      <th>High</th>\n",
       "      <th>Low</th>\n",
       "      <th>Close</th>\n",
       "      <th>Adj Close</th>\n",
       "      <th>Volume</th>\n",
       "      <th>simple_return</th>\n",
       "      <th>log_return</th>\n",
       "    </tr>\n",
       "  </thead>\n",
       "  <tbody>\n",
       "    <tr>\n",
       "      <th>count</th>\n",
       "      <td>4870.00</td>\n",
       "      <td>4870.00</td>\n",
       "      <td>4870.00</td>\n",
       "      <td>4870.00</td>\n",
       "      <td>4870.00</td>\n",
       "      <td>4870.00</td>\n",
       "      <td>4869.00</td>\n",
       "      <td>4869.00</td>\n",
       "    </tr>\n",
       "    <tr>\n",
       "      <th>mean</th>\n",
       "      <td>6449.76</td>\n",
       "      <td>6525.55</td>\n",
       "      <td>6367.59</td>\n",
       "      <td>6447.86</td>\n",
       "      <td>5687.83</td>\n",
       "      <td>1280074.36</td>\n",
       "      <td>0.00</td>\n",
       "      <td>0.00</td>\n",
       "    </tr>\n",
       "    <tr>\n",
       "      <th>std</th>\n",
       "      <td>3118.94</td>\n",
       "      <td>3145.06</td>\n",
       "      <td>3093.45</td>\n",
       "      <td>3120.29</td>\n",
       "      <td>3233.33</td>\n",
       "      <td>1391901.95</td>\n",
       "      <td>0.02</td>\n",
       "      <td>0.02</td>\n",
       "    </tr>\n",
       "    <tr>\n",
       "      <th>min</th>\n",
       "      <td>1320.00</td>\n",
       "      <td>1500.00</td>\n",
       "      <td>1232.00</td>\n",
       "      <td>1355.00</td>\n",
       "      <td>1098.25</td>\n",
       "      <td>0.00</td>\n",
       "      <td>-0.17</td>\n",
       "      <td>-0.19</td>\n",
       "    </tr>\n",
       "    <tr>\n",
       "      <th>25%</th>\n",
       "      <td>4090.25</td>\n",
       "      <td>4138.25</td>\n",
       "      <td>4040.00</td>\n",
       "      <td>4090.00</td>\n",
       "      <td>3393.31</td>\n",
       "      <td>469129.50</td>\n",
       "      <td>-0.01</td>\n",
       "      <td>-0.01</td>\n",
       "    </tr>\n",
       "    <tr>\n",
       "      <th>50%</th>\n",
       "      <td>5821.00</td>\n",
       "      <td>5886.00</td>\n",
       "      <td>5750.00</td>\n",
       "      <td>5819.00</td>\n",
       "      <td>4891.77</td>\n",
       "      <td>850067.50</td>\n",
       "      <td>0.00</td>\n",
       "      <td>0.00</td>\n",
       "    </tr>\n",
       "    <tr>\n",
       "      <th>75%</th>\n",
       "      <td>8502.50</td>\n",
       "      <td>8599.75</td>\n",
       "      <td>8418.00</td>\n",
       "      <td>8497.75</td>\n",
       "      <td>7377.53</td>\n",
       "      <td>1581849.25</td>\n",
       "      <td>0.01</td>\n",
       "      <td>0.01</td>\n",
       "    </tr>\n",
       "    <tr>\n",
       "      <th>max</th>\n",
       "      <td>15580.00</td>\n",
       "      <td>15850.00</td>\n",
       "      <td>15520.00</td>\n",
       "      <td>15630.00</td>\n",
       "      <td>15630.00</td>\n",
       "      <td>26698424.00</td>\n",
       "      <td>0.23</td>\n",
       "      <td>0.21</td>\n",
       "    </tr>\n",
       "  </tbody>\n",
       "</table>\n",
       "</div>"
      ],
      "text/plain": [
       "           Open      High       Low     Close  Adj Close       Volume  \\\n",
       "count   4870.00   4870.00   4870.00   4870.00    4870.00      4870.00   \n",
       "mean    6449.76   6525.55   6367.59   6447.86    5687.83   1280074.36   \n",
       "std     3118.94   3145.06   3093.45   3120.29    3233.33   1391901.95   \n",
       "min     1320.00   1500.00   1232.00   1355.00    1098.25         0.00   \n",
       "25%     4090.25   4138.25   4040.00   4090.00    3393.31    469129.50   \n",
       "50%     5821.00   5886.00   5750.00   5819.00    4891.77    850067.50   \n",
       "75%     8502.50   8599.75   8418.00   8497.75    7377.53   1581849.25   \n",
       "max    15580.00  15850.00  15520.00  15630.00   15630.00  26698424.00   \n",
       "\n",
       "       simple_return  log_return  \n",
       "count        4869.00     4869.00  \n",
       "mean            0.00        0.00  \n",
       "std             0.02        0.02  \n",
       "min            -0.17       -0.19  \n",
       "25%            -0.01       -0.01  \n",
       "50%             0.00        0.00  \n",
       "75%             0.01        0.01  \n",
       "max             0.23        0.21  "
      ]
     },
     "execution_count": 12,
     "metadata": {},
     "output_type": "execute_result"
    }
   ],
   "source": [
    "otp.describe().round(2)"
   ]
  },
  {
   "cell_type": "code",
   "execution_count": 13,
   "metadata": {},
   "outputs": [
    {
     "name": "stdout",
     "output_type": "stream",
     "text": [
      "Median:5819.0 \n",
      "Mode:\n",
      "0    4150.0\n",
      "1    4200.0\n",
      "dtype: float64\n"
     ]
    }
   ],
   "source": [
    "print(f'Median:{otp.Close.median()} \\nMode:\\n{otp.Close.mode()}')"
   ]
  },
  {
   "cell_type": "markdown",
   "metadata": {},
   "source": [
    "Sűrűségfüggvény\n",
    "$f(x)=\\frac{1}{\\sigma\\sqrt{2\\pi}}e^\\frac{(x-m)^2}{2\\sigma^2}$"
   ]
  },
  {
   "cell_type": "markdown",
   "metadata": {},
   "source": [
    "# II. Rész: Villamosenergia day ahead árak és fogyasztás kapcsolatának vizsgálata\n",
    "Ebben a részben a HUPX Day ahead árak és a magyar villamosenergia rendszer fogyasztási görbéjét vizsgálom, egy tetszőleges napra vonatkozólag. A DAM árak T-1 napi aukció során alakultak ki. "
   ]
  },
  {
   "cell_type": "code",
   "execution_count": 14,
   "metadata": {},
   "outputs": [],
   "source": [
    "# adatok letöltése az ENTSOE transparency platformról\n",
    "# hupx jelöli a DAM árak tábláját, load pedig a terhelési adatokat.\n",
    "import entsoapi\n",
    "from entsoe import EntsoePandasClient\n",
    "client = EntsoePandasClient(api_key=entsoapi.mykey)\n",
    "\n",
    "country_code = 'HU'\n",
    "start = pd.Timestamp('202102150000', tz='Europe/Brussels')\n",
    "end = pd.Timestamp('202102152345', tz='Europe/Brussels')\n",
    "\n",
    "hupx = client.query_day_ahead_prices(country_code, start=start,end=end)\n",
    "load=client.query_load(country_code, start=start,end=end)"
   ]
  },
  {
   "cell_type": "code",
   "execution_count": 15,
   "metadata": {},
   "outputs": [
    {
     "data": {
      "image/png": "[encoded data removed]",
      "text/plain": [
       "<Figure size 432x288 with 2 Axes>"
      ]
     },
     "metadata": {
      "needs_background": "light"
     },
     "output_type": "display_data"
    }
   ],
   "source": [
    "load.plot(secondary_y=True, drawstyle='steps-post', label='load', legend=True)\n",
    "a = hupx.plot(drawstyle='steps-post', label='hupx', legend=True, \n",
    "              title =f'HUPX DAM vs VER Terhelési görbe')"
   ]
  },
  {
   "cell_type": "code",
   "execution_count": 16,
   "metadata": {},
   "outputs": [
    {
     "data": {
      "image/png": "[encoded data removed]",
      "text/plain": [
       "<Figure size 432x288 with 1 Axes>"
      ]
     },
     "metadata": {
      "needs_background": "light"
     },
     "output_type": "display_data"
    }
   ],
   "source": [
    "df = pd.DataFrame()\n",
    "df['load'] = load\n",
    "df['hupx'] = hupx\n",
    "df.dropna(inplace=True)\n",
    "ax = sns.regplot(x=\"load\", y=\"hupx\", data=df)"
   ]
  },
  {
   "cell_type": "markdown",
   "metadata": {},
   "source": [
    "## Kétváltozós lineáris regressziós modell (kézi számolással)\n",
    "\n",
    "X tengelyen a terhelési görbe ami az okozó tényező Y tengelyen a hupx DA árak.\n",
    "\n",
    "$Y = \\beta_0 + \\beta_1X$\n",
    "\n",
    "### Legkisebb négyzetek módszere\n",
    "Munkatábla; az idősor tengelyre nincs szükség."
   ]
  },
  {
   "cell_type": "code",
   "execution_count": 17,
   "metadata": {},
   "outputs": [
    {
     "data": {
      "text/html": [
       "<div>\n",
       "<style scoped>\n",
       "    .dataframe tbody tr th:only-of-type {\n",
       "        vertical-align: middle;\n",
       "    }\n",
       "\n",
       "    .dataframe tbody tr th {\n",
       "        vertical-align: top;\n",
       "    }\n",
       "\n",
       "    .dataframe thead th {\n",
       "        text-align: right;\n",
       "    }\n",
       "</style>\n",
       "<table border=\"1\" class=\"dataframe\">\n",
       "  <thead>\n",
       "    <tr style=\"text-align: right;\">\n",
       "      <th></th>\n",
       "      <th>load</th>\n",
       "      <th>hupx</th>\n",
       "      <th>XiYi</th>\n",
       "      <th>Xi2</th>\n",
       "    </tr>\n",
       "  </thead>\n",
       "  <tbody>\n",
       "    <tr>\n",
       "      <th>2021-02-15 00:00:00+01:00</th>\n",
       "      <td>4942.0</td>\n",
       "      <td>38.53</td>\n",
       "      <td>190415.26</td>\n",
       "      <td>24423364.0</td>\n",
       "    </tr>\n",
       "    <tr>\n",
       "      <th>2021-02-15 01:00:00+01:00</th>\n",
       "      <td>4764.0</td>\n",
       "      <td>35.70</td>\n",
       "      <td>170074.80</td>\n",
       "      <td>22695696.0</td>\n",
       "    </tr>\n",
       "    <tr>\n",
       "      <th>2021-02-15 02:00:00+01:00</th>\n",
       "      <td>4676.0</td>\n",
       "      <td>35.42</td>\n",
       "      <td>165623.92</td>\n",
       "      <td>21864976.0</td>\n",
       "    </tr>\n",
       "  </tbody>\n",
       "</table>\n",
       "</div>"
      ],
      "text/plain": [
       "                             load   hupx       XiYi         Xi2\n",
       "2021-02-15 00:00:00+01:00  4942.0  38.53  190415.26  24423364.0\n",
       "2021-02-15 01:00:00+01:00  4764.0  35.70  170074.80  22695696.0\n",
       "2021-02-15 02:00:00+01:00  4676.0  35.42  165623.92  21864976.0"
      ]
     },
     "execution_count": 17,
     "metadata": {},
     "output_type": "execute_result"
    }
   ],
   "source": [
    "#X = load; Y= hupx\n",
    "df['XiYi'] = df.load*df.hupx\n",
    "df['Xi2'] = df.load*df.load\n",
    "df.dropna()\n",
    "df.head(3)"
   ]
  },
  {
   "cell_type": "markdown",
   "metadata": {},
   "source": [
    "### Normálegyenletek megoldása determináns módszerrel"
   ]
  },
  {
   "cell_type": "code",
   "execution_count": 18,
   "metadata": {},
   "outputs": [
    {
     "data": {
      "text/latex": [
       "$\\beta_0:$-48.280323 $\\beta_1:$0.017656"
      ],
      "text/plain": [
       "<IPython.core.display.Latex object>"
      ]
     },
     "metadata": {},
     "output_type": "display_data"
    }
   ],
   "source": [
    "sumY = df.hupx.sum()\n",
    "sumX2 = df['Xi2'].sum()\n",
    "sumX = df.load.sum()\n",
    "sumXY = df.XiYi.sum()\n",
    "n = len(df)\n",
    "b0= (sumY*sumX2-(sumX*sumXY))/(n*sumX2-(sumX*sumX))\n",
    "b1 = (n*sumXY-sumY*sumX)/(n*sumX2-(sumX*sumX))\n",
    "display(Latex(f'$\\\\beta_0:${b0:4f} $\\\\beta_1:${b1:4f}'))"
   ]
  },
  {
   "cell_type": "code",
   "execution_count": 19,
   "metadata": {},
   "outputs": [
    {
     "data": {
      "image/png": "[encoded data removed]",
      "text/plain": [
       "<Figure size 432x288 with 1 Axes>"
      ]
     },
     "metadata": {
      "needs_background": "light"
     },
     "output_type": "display_data"
    }
   ],
   "source": [
    "df.plot.scatter(x='load', y='hupx')\n",
    "x_values = np.linspace(df.load.min(),df.load.max(),2)\n",
    "y_linreg_values = b0+b1*x_values\n",
    "ax=plt.plot(x_values,y_linreg_values)"
   ]
  },
  {
   "cell_type": "code",
   "execution_count": 20,
   "metadata": {},
   "outputs": [
    {
     "name": "stdout",
     "output_type": "stream",
     "text": [
      "A regressziófüggvény:Y = -48.28 + 0.0177 X\n",
      "A villamosenergia fogyasztás 100 MWh-val való növekedése átlagosan 1.7656 EUR/MWh-val növelte a HUPX DA árait a vizsgált időszakban.\n"
     ]
    }
   ],
   "source": [
    "print(f'A regressziófüggvény:Y = {b0:.2f} + {b1:.4f} X')\n",
    "print(f'A villamosenergia fogyasztás 100 MWh-val való \\\n",
    "növekedése átlagosan {b1*100:.4f} EUR/MWh-val növelte \\\n",
    "a HUPX DA árait a vizsgált időszakban.')"
   ]
  },
  {
   "cell_type": "code",
   "execution_count": null,
   "metadata": {},
   "outputs": [],
   "source": []
  }
 ],
 "metadata": {
  "kernelspec": {
   "display_name": "Python 3",
   "language": "python",
   "name": "python3"
  },
  "language_info": {
   "codemirror_mode": {
    "name": "ipython",
    "version": 3
   },
   "file_extension": ".py",
   "mimetype": "text/x-python",
   "name": "python",
   "nbconvert_exporter": "python",
   "pygments_lexer": "ipython3",
   "version": "3.9.0"
  }
 },
 "nbformat": 4,
 "nbformat_minor": 4
}
